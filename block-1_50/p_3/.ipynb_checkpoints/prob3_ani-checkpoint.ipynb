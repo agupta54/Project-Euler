{
 "cells": [
  {
   "cell_type": "markdown",
   "metadata": {},
   "source": [
    "## Naive method\n",
    "Iterating over all numbers till n/2 and finding prime factors for them. \n",
    "This method works for smaller numbers but fails for numbers are larger. "
   ]
  },
  {
   "cell_type": "code",
   "execution_count": 81,
   "metadata": {},
   "outputs": [],
   "source": [
    "def if_prime(n):\n",
    "    if n % 2 == 0:\n",
    "        return False\n",
    "    else:\n",
    "        for i in range(2, int(n/2)):\n",
    "            if n % i == 0:\n",
    "                return False\n",
    "        return True"
   ]
  },
  {
   "cell_type": "code",
   "execution_count": 4,
   "metadata": {},
   "outputs": [
    {
     "name": "stdout",
     "output_type": "stream",
     "text": [
      "934 µs ± 19.8 µs per loop (mean ± std. dev. of 7 runs, 1000 loops each)\n"
     ]
    }
   ],
   "source": [
    "%%timeit\n",
    "max([i for i in range(2, int(13195/2)) if (13195 % i == 0 and if_prime(i))])"
   ]
  },
  {
   "cell_type": "markdown",
   "metadata": {},
   "source": [
    "## Another approach \n",
    "If we instead of calculating all factors start counting from n/2 and break the loop whener we find a prime factor, this migh work. Let's try it out.\n",
    "\n",
    "One optimization is that loop over only odd numbers to begin with. "
   ]
  },
  {
   "cell_type": "code",
   "execution_count": 5,
   "metadata": {},
   "outputs": [
    {
     "name": "stdout",
     "output_type": "stream",
     "text": [
      "551 µs ± 115 µs per loop (mean ± std. dev. of 7 runs, 1000 loops each)\n"
     ]
    }
   ],
   "source": [
    "%%timeit\n",
    "max([i for i in range(int(13195/2), 2, -2) if (13195 % i == 0 and if_prime(i))])"
   ]
  },
  {
   "cell_type": "markdown",
   "metadata": {},
   "source": [
    "Looping over odd numbers makes our approach faster. Now we need to figure out a way to break out of loop as soon as we find the first prime factor"
   ]
  },
  {
   "cell_type": "code",
   "execution_count": 82,
   "metadata": {},
   "outputs": [],
   "source": [
    "def max_prime_factor(n):\n",
    "    if n % 2 == 0:\n",
    "        for i in range(int(n/2-1), 2, -2):\n",
    "            if n % i == 0 and if_prime(i):\n",
    "                return i\n",
    "                break\n",
    "    else:\n",
    "        for i in range(int(n/2), 2, -2):\n",
    "            if n % i ==0 and if_prime(i):\n",
    "                return i\n",
    "                break"
   ]
  },
  {
   "cell_type": "code",
   "execution_count": 7,
   "metadata": {},
   "outputs": [
    {
     "name": "stdout",
     "output_type": "stream",
     "text": [
      "525 µs ± 102 µs per loop (mean ± std. dev. of 7 runs, 1000 loops each)\n"
     ]
    }
   ],
   "source": [
    "%%timeit\n",
    "max_prime_factor(13195)"
   ]
  },
  {
   "cell_type": "markdown",
   "metadata": {},
   "source": [
    "This apprach is even faster. Let us check this with final number if it works. "
   ]
  },
  {
   "cell_type": "markdown",
   "metadata": {},
   "source": [
    "<code>max_prime_factor(600851475143)</code> \n",
    "\n",
    "This approach does not work for the number we have at hand. We need to look more deeply at how a number is factorized. This optimized search over numbers does not seem to work. "
   ]
  },
  {
   "cell_type": "code",
   "execution_count": 69,
   "metadata": {},
   "outputs": [],
   "source": [
    "def next_prime(n):\n",
    "    if n % 2 == 0:\n",
    "        dummy = n + 1\n",
    "    else:\n",
    "        dummy = n + 2\n",
    "    flag = False\n",
    "    while flag!=True:\n",
    "        if if_prime(dummy):\n",
    "            return dummy\n",
    "        else:\n",
    "            dummy = dummy + 2"
   ]
  },
  {
   "cell_type": "code",
   "execution_count": 132,
   "metadata": {},
   "outputs": [],
   "source": [
    "def prime_factorization(n):\n",
    "    prime_factors = []\n",
    "    factor = 2\n",
    "    dummy = n\n",
    "    while dummy!=1:\n",
    "        a, b = divmod(dummy, factor)\n",
    "        if b != 0:\n",
    "            factor = next_prime(factor)\n",
    "        else:\n",
    "            prime_factors.append(factor)\n",
    "            dummy = a\n",
    "    return prime_factors    "
   ]
  },
  {
   "cell_type": "code",
   "execution_count": 145,
   "metadata": {},
   "outputs": [
    {
     "name": "stdout",
     "output_type": "stream",
     "text": [
      "195 ms ± 8.42 ms per loop (mean ± std. dev. of 7 runs, 10 loops each)\n"
     ]
    }
   ],
   "source": [
    "%%timeit\n",
    "prime_factorization(600851475143)[-1]"
   ]
  },
  {
   "cell_type": "code",
   "execution_count": null,
   "metadata": {},
   "outputs": [],
   "source": []
  },
  {
   "cell_type": "code",
   "execution_count": null,
   "metadata": {},
   "outputs": [],
   "source": []
  },
  {
   "cell_type": "code",
   "execution_count": null,
   "metadata": {},
   "outputs": [],
   "source": []
  }
 ],
 "metadata": {
  "kernelspec": {
   "display_name": "Python 3",
   "language": "python",
   "name": "python3"
  },
  "language_info": {
   "codemirror_mode": {
    "name": "ipython",
    "version": 3
   },
   "file_extension": ".py",
   "mimetype": "text/x-python",
   "name": "python",
   "nbconvert_exporter": "python",
   "pygments_lexer": "ipython3",
   "version": "3.7.4"
  }
 },
 "nbformat": 4,
 "nbformat_minor": 4
}
