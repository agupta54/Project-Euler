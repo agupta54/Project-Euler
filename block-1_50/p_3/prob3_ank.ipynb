{
 "cells": [
  {
   "cell_type": "markdown",
   "metadata": {},
   "source": [
    "#        The Eternal Search for Primes "
   ]
  },
  {
   "cell_type": "markdown",
   "metadata": {},
   "source": [
    "Q3: What is the largest prime factor of the number $600851475143$?"
   ]
  },
  {
   "cell_type": "markdown",
   "metadata": {},
   "source": [
    "Primality testing and Factorization are two of the major areas of research in **Computational Number Theory** and **Algebraic Number Theory**. The best method for primality testing is **SNFS** (Special Number Field Sieve). At some point, I would like to implement this (*Note to self*). \n",
    "\n",
    "<br> Here, we use a very basic technique for primality testing and that is:\n",
    "\n",
    "<br> **Wilson's Theorem**: A number is prime *iff* $(p - 1)! \\equiv - 1 \\ \\ (mod \\ p)$. \n",
    "\n",
    "<br> The proof of this theorem is very beautiful and can be done using an elementary technique or the concept of modular arithmetic in a field. \n",
    "\n",
    "<br> $\\mathbb{Z}$ is a ring where we can use the prime factorization theorem and deduce that any natural number $n \\geq 2$ can be written as:\n",
    "\n",
    "<br> $$n = \\sum {p_i}^{q_i}$$\n",
    "\n",
    "<br> where, $p$ is a prime factor of $n$ and $q \\geq 1$. We implement this here. Please note that as we are using a crude method, hence, we won't test that whether $600851475143$ is prime or not. A deduction from a prime number theorem is that every composite number has a prime factor less than or equal to its square root. We will implicitly assume that $600851475143$ is a composite number. If we also assume that $q = 1$, then all the prime factors will be always less than $\\sqrt{p}$."
   ]
  },
  {
   "cell_type": "code",
   "execution_count": 31,
   "metadata": {},
   "outputs": [
    {
     "name": "stdout",
     "output_type": "stream",
     "text": [
      "[71, 839, 1471, 6857]\n",
      "6857\n",
      "775146\n"
     ]
    }
   ],
   "source": [
    "import math\n",
    "\n",
    "def wilson_fact(x):\n",
    "    a = 1\n",
    "    for i in range(2,x):\n",
    "        a = a*i\n",
    "    return(a)\n",
    "\n",
    "n = 600851475143\n",
    "m = int(math.sqrt(n))\n",
    "\n",
    "L = []\n",
    "\n",
    "for i in range(2,m):\n",
    "    if n%i == 0:\n",
    "        n1 = int(n/i)\n",
    "        if wilson_fact(i)%i == i - 1:\n",
    "            L.append(i)\n",
    "        break\n",
    "            \n",
    "for i in range(2,m):\n",
    "    if n1%i == 0:\n",
    "        n2 = int(n1/i)\n",
    "        if wilson_fact(i)%i == i - 1:\n",
    "            L.append(i)\n",
    "        break\n",
    "\n",
    "for i in range(2,m):\n",
    "    if n2%i == 0:\n",
    "        n3 = int(n2/i)\n",
    "        if wilson_fact(i)%i == i - 1:\n",
    "            L.append(i)\n",
    "        break\n",
    "\n",
    "for i in range(2,m):\n",
    "    if n3%i == 0:\n",
    "        n4 = int(n3/i)\n",
    "        if wilson_fact(i)%i == i - 1:\n",
    "            L.append(i)\n",
    "        break\n",
    "        \n",
    "for i in range(2,m):\n",
    "    if n4%i == 0:\n",
    "        n4 = int(n3/i)\n",
    "        if wilson_fact(i)%i == i - 1:\n",
    "            L.append(i)\n",
    "        break\n",
    "        \n",
    "a = 1\n",
    "for i in L:\n",
    "    a = a*i\n",
    "\n",
    "if a == n:\n",
    "    print(L)\n",
    "    print(max(L))\n",
    "    print(m)"
   ]
  },
  {
   "cell_type": "code",
   "execution_count": 32,
   "metadata": {},
   "outputs": [
    {
     "name": "stdout",
     "output_type": "stream",
     "text": [
      "71.6 ms ± 1.07 ms per loop (mean ± std. dev. of 7 runs, 10 loops each)\n"
     ]
    }
   ],
   "source": [
    "%%timeit\n",
    "\n",
    "def wilson_fact(x):\n",
    "    a = 1\n",
    "    for i in range(2,x):\n",
    "        a = a*i\n",
    "    return(a)\n",
    "\n",
    "n = 600851475143\n",
    "m = 775146\n",
    "\n",
    "L = []\n",
    "\n",
    "for i in range(2,m):\n",
    "    if n%i == 0:\n",
    "        n1 = int(n/i)\n",
    "        if wilson_fact(i)%i == i - 1:\n",
    "            L.append(i)\n",
    "        break\n",
    "            \n",
    "for i in range(2,m):\n",
    "    if n1%i == 0:\n",
    "        n2 = int(n1/i)\n",
    "        if wilson_fact(i)%i == i - 1:\n",
    "            L.append(i)\n",
    "        break\n",
    "\n",
    "for i in range(2,m):\n",
    "    if n2%i == 0:\n",
    "        n3 = int(n2/i)\n",
    "        if wilson_fact(i)%i == i - 1:\n",
    "            L.append(i)\n",
    "        break\n",
    "\n",
    "for i in range(2,m):\n",
    "    if n3%i == 0:\n",
    "        n4 = int(n3/i)\n",
    "        if wilson_fact(i)%i == i - 1:\n",
    "            L.append(i)\n",
    "        break\n",
    "        \n",
    "for i in range(2,m):\n",
    "    if n4%i == 0:\n",
    "        n4 = int(n3/i)\n",
    "        if wilson_fact(i)%i == i - 1:\n",
    "            L.append(i)\n",
    "        break\n",
    "        \n",
    "a = 1\n",
    "for i in L:\n",
    "    a = a*i\n",
    "\n",
    "#if a == n:\n",
    "#    print(L)\n",
    "#    print(max(L))\n",
    "#    print(m)"
   ]
  },
  {
   "cell_type": "code",
   "execution_count": null,
   "metadata": {},
   "outputs": [],
   "source": []
  }
 ],
 "metadata": {
  "kernelspec": {
   "display_name": "Python 3",
   "language": "python",
   "name": "python3"
  },
  "language_info": {
   "codemirror_mode": {
    "name": "ipython",
    "version": 3
   },
   "file_extension": ".py",
   "mimetype": "text/x-python",
   "name": "python",
   "nbconvert_exporter": "python",
   "pygments_lexer": "ipython3",
   "version": "3.7.4"
  }
 },
 "nbformat": 4,
 "nbformat_minor": 2
}
