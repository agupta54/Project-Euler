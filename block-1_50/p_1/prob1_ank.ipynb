{
 "cells": [
  {
   "cell_type": "markdown",
   "metadata": {},
   "source": [
    "Problem 1 will be solved by using the formula $\\dfrac{n*(n + 1)}{2}$. It will be interesting to see what happens when we use real numbers instead of integers."
   ]
  },
  {
   "cell_type": "code",
   "execution_count": 8,
   "metadata": {},
   "outputs": [
    {
     "name": "stdout",
     "output_type": "stream",
     "text": [
      "300\n",
      "500\n",
      "20000\n",
      "1672400.0\n"
     ]
    }
   ],
   "source": [
    "import math\n",
    "\n",
    "x = float(input())\n",
    "y = float(input())\n",
    "n = float(input())\n",
    "if x >= n or y >= n or n <= 0:\n",
    "    print(\"INVALID INPUT! Please input a positive number greater than x and y\")\n",
    "\n",
    "else:\n",
    "   \n",
    "    if x >= y:\n",
    "        z = n / y \n",
    "        a = int(math.ceil(z))\n",
    "        b = x * y\n",
    "        c = n / b\n",
    "        d = int(math.ceil(c))\n",
    "        if d >= 1:\n",
    "            e = (x + y) * (a * (a + 1) / 2) - b * (d * (d + 1) / 2)\n",
    "            print(e)\n",
    "        else:\n",
    "            f = (x + y) * (a * (a + 1) / 2)\n",
    "            print(f)\n",
    "    else:\n",
    "        z = n / x \n",
    "        a = int(math.ceil(z))\n",
    "        b = x * y\n",
    "        c = n / b\n",
    "        d = int(math.ceil(c))\n",
    "        if d >= 1:\n",
    "            e = (x + y) * (a * (a + 1) / 2) - b * (d * (d + 1) / 2)\n",
    "            print(e)\n",
    "        else:\n",
    "            f = (x + y) * (a * (a + 1) / 2)\n",
    "            print(f)"
   ]
  },
  {
   "cell_type": "markdown",
   "metadata": {},
   "source": [
    "Using the formula: $\\sum_{i = 1}^{n} i = \\dfrac{n*(n + 1)}{2}$. "
   ]
  },
  {
   "cell_type": "code",
   "execution_count": null,
   "metadata": {},
   "outputs": [],
   "source": []
  }
 ],
 "metadata": {
  "kernelspec": {
   "display_name": "Python 3",
   "language": "python",
   "name": "python3"
  },
  "language_info": {
   "codemirror_mode": {
    "name": "ipython",
    "version": 3
   },
   "file_extension": ".py",
   "mimetype": "text/x-python",
   "name": "python",
   "nbconvert_exporter": "python",
   "pygments_lexer": "ipython3",
   "version": "3.7.4"
  }
 },
 "nbformat": 4,
 "nbformat_minor": 2
}
