{
 "cells": [
  {
   "cell_type": "markdown",
   "metadata": {},
   "source": [
    "# Longest Collatz Sequence Below A Million"
   ]
  },
  {
   "cell_type": "markdown",
   "metadata": {},
   "source": [
    "I intend to write a lot of Mathematics here. This is a *celebrated* problem in the Mathematical (specifically Number Theory) community. "
   ]
  },
  {
   "cell_type": "markdown",
   "metadata": {},
   "source": [
    "# Collatz()"
   ]
  },
  {
   "cell_type": "code",
   "execution_count": 10,
   "metadata": {},
   "outputs": [],
   "source": [
    "def Collatz(x):\n",
    "    if x%2 == 0:\n",
    "        x = x//2\n",
    "    else:\n",
    "        x = 3*x + 1\n",
    "    return(x)"
   ]
  },
  {
   "cell_type": "markdown",
   "metadata": {},
   "source": [
    "# CollatzLen()"
   ]
  },
  {
   "cell_type": "code",
   "execution_count": 13,
   "metadata": {},
   "outputs": [],
   "source": [
    "def CollatzLen(x):\n",
    "    if x == 1:\n",
    "        return 4\n",
    "    else:\n",
    "        L = [x]\n",
    "        i = 0\n",
    "        while(i >= 0 and x != 1):\n",
    "            x = Collatz(x)\n",
    "            L.append(x)            \n",
    "            i = i + 1\n",
    "    return(len(L))"
   ]
  },
  {
   "cell_type": "markdown",
   "metadata": {},
   "source": [
    "Longest Collatz Sequence Below A Million"
   ]
  },
  {
   "cell_type": "code",
   "execution_count": 24,
   "metadata": {},
   "outputs": [
    {
     "name": "stdout",
     "output_type": "stream",
     "text": [
      "837799\n"
     ]
    }
   ],
   "source": [
    "n = 1000000\n",
    "\n",
    "L = [CollatzLen(i) for i in range(1,n)]\n",
    "\n",
    "m = max(L)\n",
    "\n",
    "y = L.index(m) + 1\n",
    "\n",
    "print(y)"
   ]
  },
  {
   "cell_type": "code",
   "execution_count": 25,
   "metadata": {},
   "outputs": [
    {
     "name": "stdout",
     "output_type": "stream",
     "text": [
      "1min 16s ± 6.9 s per loop (mean ± std. dev. of 7 runs, 1 loop each)\n"
     ]
    }
   ],
   "source": [
    "%%timeit\n",
    "\n",
    "n = 1000000\n",
    "\n",
    "L = [CollatzLen(i) for i in range(1,n)]\n",
    "\n",
    "m = max(L)\n",
    "\n",
    "y = L.index(m) + 1\n",
    "\n",
    "#print(y)"
   ]
  },
  {
   "cell_type": "markdown",
   "metadata": {},
   "source": []
  }
 ],
 "metadata": {
  "kernelspec": {
   "display_name": "Python 3",
   "language": "python",
   "name": "python3"
  },
  "language_info": {
   "codemirror_mode": {
    "name": "ipython",
    "version": 3
   },
   "file_extension": ".py",
   "mimetype": "text/x-python",
   "name": "python",
   "nbconvert_exporter": "python",
   "pygments_lexer": "ipython3",
   "version": "3.7.4"
  }
 },
 "nbformat": 4,
 "nbformat_minor": 2
}
