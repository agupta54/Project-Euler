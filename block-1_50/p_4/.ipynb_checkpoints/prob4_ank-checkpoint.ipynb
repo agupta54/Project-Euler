{
 "cells": [
  {
   "cell_type": "markdown",
   "metadata": {},
   "source": [
    "# The Palindrome Conundrum"
   ]
  },
  {
   "cell_type": "markdown",
   "metadata": {},
   "source": [
    "**Definition:** (Good Palindrome) A good palindrome is a palindrome which has even number of digits in it. "
   ]
  },
  {
   "cell_type": "markdown",
   "metadata": {},
   "source": [
    "*Proposition $1$:* A good palindrome is always divisible by $11$."
   ]
  },
  {
   "cell_type": "markdown",
   "metadata": {},
   "source": [
    "*Proof:* We take a good palindrome as $ABCCBA$. The divisibility test of $11$ tells us that the difference of the **odd** places and **even** places shall be divisible by $11$. In this case, $(A + C + B) - (B + C + A) = 0$, which is always divisible by $11$. Hence, our proposition is correct.  "
   ]
  },
  {
   "cell_type": "markdown",
   "metadata": {},
   "source": [
    "*Proposition $2$:* The sum of the digits of a good palindrome is always even. "
   ]
  },
  {
   "cell_type": "markdown",
   "metadata": {},
   "source": [
    "*Proof:* We again consider a good palindrome as ABCCBA. We see that the sum of the digits $A + B + C + C + B + A = 2*(A + B + C)$ is always divisible by $2$. Hence, it seems to be correct. "
   ]
  },
  {
   "cell_type": "markdown",
   "metadata": {},
   "source": [
    "**Note:** These two *Propositions* are **equivalent**."
   ]
  },
  {
   "cell_type": "markdown",
   "metadata": {},
   "source": [
    "**Some Bounds:** For a $6$-digit number, in the interval of $100000$ (this is not the smallest interval); we ought to find a palindrome. The problem here is that the palindrome should be a multiple of $2$ numbers which have $3$-digits each. Since, factoring a number is a difficult problem, hence we take the other route. We start looking from $900*900 = 810000$ to $999*999 = 998001$. As the palindrome is divisible by $11$ by *Proposition $1$*, we will start from $902*900$ till $990*999$. We can improve a bit more as the last digit of the palindrome can't be $0$, so, we can start from $902*901$ and end our search at $979*999$. The first counter will be just the multiples of $11$.   "
   ]
  },
  {
   "cell_type": "code",
   "execution_count": 1,
   "metadata": {},
   "outputs": [
    {
     "name": "stdout",
     "output_type": "stream",
     "text": [
      "906609\n"
     ]
    }
   ],
   "source": [
    "L = []\n",
    "for i in range(902, 990, 11):\n",
    "    for j in range(901, 1000):\n",
    "        k = i*j\n",
    "        a = str(k)\n",
    "        if(a==a[::-1]):\n",
    "            b = int(a)\n",
    "            L.append(b)\n",
    "print(max(L))"
   ]
  },
  {
   "cell_type": "code",
   "execution_count": 2,
   "metadata": {},
   "outputs": [
    {
     "name": "stdout",
     "output_type": "stream",
     "text": [
      "691 µs ± 14.1 µs per loop (mean ± std. dev. of 7 runs, 1000 loops each)\n"
     ]
    }
   ],
   "source": [
    "%%timeit\n",
    "L = []\n",
    "for i in range(902, 990, 11):\n",
    "    for j in range(901, 1000):\n",
    "        k = i*j\n",
    "        a = str(k)\n",
    "        if(a==a[::-1]):\n",
    "            b = int(a)\n",
    "            L.append(b)\n",
    "max(L)"
   ]
  },
  {
   "cell_type": "code",
   "execution_count": null,
   "metadata": {},
   "outputs": [],
   "source": []
  }
 ],
 "metadata": {
  "kernelspec": {
   "display_name": "Python 3",
   "language": "python",
   "name": "python3"
  },
  "language_info": {
   "codemirror_mode": {
    "name": "ipython",
    "version": 3
   },
   "file_extension": ".py",
   "mimetype": "text/x-python",
   "name": "python",
   "nbconvert_exporter": "python",
   "pygments_lexer": "ipython3",
   "version": "3.7.4"
  }
 },
 "nbformat": 4,
 "nbformat_minor": 2
}
