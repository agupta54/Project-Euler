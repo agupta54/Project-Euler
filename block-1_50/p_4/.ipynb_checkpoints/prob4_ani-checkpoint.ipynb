{
 "cells": [
  {
   "cell_type": "code",
   "execution_count": 1,
   "metadata": {},
   "outputs": [],
   "source": [
    "def is_palindrome(n):\n",
    "    dummy = str(n)\n",
    "    dummy = dummy[::-1]\n",
    "    if n == int(dummy):\n",
    "        return True \n",
    "    else:\n",
    "        return False"
   ]
  },
  {
   "cell_type": "markdown",
   "metadata": {},
   "source": [
    "## Brute Force\n",
    "Calculate each and every product of two digit numbers and find the maximum palindrome.  "
   ]
  },
  {
   "cell_type": "code",
   "execution_count": 10,
   "metadata": {},
   "outputs": [
    {
     "name": "stdout",
     "output_type": "stream",
     "text": [
      "1.78 ms ± 213 µs per loop (mean ± std. dev. of 7 runs, 1000 loops each)\n"
     ]
    }
   ],
   "source": [
    "%%timeit\n",
    "two_digit_products = []\n",
    "for i in range(10, 100):\n",
    "    for j in range(1, i+1):\n",
    "        two_digit_products.append(i*j)\n",
    "        \n",
    "two_digit_products.sort(reverse=True)\n",
    "\n",
    "for i in two_digit_products:\n",
    "    if is_palindrome(i):\n",
    "        palindrome = i\n",
    "        break\n",
    "palindrome"
   ]
  },
  {
   "cell_type": "code",
   "execution_count": 16,
   "metadata": {},
   "outputs": [
    {
     "name": "stdout",
     "output_type": "stream",
     "text": [
      "241 ms ± 5.69 ms per loop (mean ± std. dev. of 7 runs, 1 loop each)\n"
     ]
    }
   ],
   "source": [
    "%%timeit\n",
    "three_digit_products = []\n",
    "for i in range(100, 1000):\n",
    "    for j in range(1, i+1):\n",
    "        three_digit_products.append(i*j)\n",
    "three_digit_products.sort(reverse=True)\n",
    "for i in three_digit_products:\n",
    "    if is_palindrome(i):\n",
    "        palindrome = i\n",
    "        break\n",
    "palindrome"
   ]
  },
  {
   "cell_type": "code",
   "execution_count": 15,
   "metadata": {},
   "outputs": [
    {
     "name": "stdout",
     "output_type": "stream",
     "text": [
      "906609\n",
      "906609\n",
      "906609\n",
      "906609\n",
      "906609\n",
      "906609\n",
      "906609\n",
      "906609\n",
      "906609\n",
      "906609\n",
      "906609\n",
      "906609\n",
      "906609\n",
      "906609\n",
      "906609\n",
      "906609\n",
      "906609\n",
      "906609\n",
      "906609\n",
      "906609\n",
      "906609\n",
      "906609\n",
      "906609\n",
      "906609\n",
      "906609\n",
      "906609\n",
      "906609\n",
      "906609\n",
      "906609\n",
      "906609\n",
      "906609\n",
      "906609\n",
      "906609\n",
      "906609\n",
      "906609\n",
      "906609\n",
      "906609\n",
      "906609\n",
      "906609\n",
      "906609\n",
      "906609\n",
      "906609\n",
      "906609\n",
      "906609\n",
      "906609\n",
      "906609\n",
      "906609\n",
      "906609\n",
      "906609\n",
      "906609\n",
      "906609\n",
      "906609\n",
      "906609\n",
      "906609\n",
      "906609\n",
      "906609\n",
      "906609\n",
      "906609\n",
      "906609\n",
      "906609\n",
      "906609\n",
      "906609\n",
      "906609\n",
      "906609\n",
      "906609\n",
      "906609\n",
      "906609\n",
      "906609\n",
      "906609\n",
      "906609\n",
      "906609\n",
      "906609\n",
      "906609\n",
      "906609\n",
      "906609\n",
      "906609\n",
      "906609\n",
      "906609\n",
      "906609\n",
      "906609\n",
      "906609\n",
      "66.1 ms ± 3.99 ms per loop (mean ± std. dev. of 7 runs, 10 loops each)\n"
     ]
    }
   ],
   "source": [
    "%%timeit\n",
    "n = 0\n",
    "for a in range(999, 100, -1):\n",
    "    for b in range(a, 100, -1):\n",
    "        x = a * b\n",
    "        if x > n:\n",
    "            s = str(a * b)\n",
    "            if s == s[::-1]:\n",
    "                 n = a * b\n",
    "print(n)"
   ]
  },
  {
   "cell_type": "code",
   "execution_count": 6,
   "metadata": {
    "scrolled": false
   },
   "outputs": [],
   "source": []
  },
  {
   "cell_type": "code",
   "execution_count": 8,
   "metadata": {},
   "outputs": [
    {
     "data": {
      "text/plain": [
       "998001"
      ]
     },
     "execution_count": 8,
     "metadata": {},
     "output_type": "execute_result"
    }
   ],
   "source": []
  },
  {
   "cell_type": "code",
   "execution_count": 12,
   "metadata": {},
   "outputs": [
    {
     "data": {
      "text/plain": [
       "998001"
      ]
     },
     "execution_count": 12,
     "metadata": {},
     "output_type": "execute_result"
    }
   ],
   "source": [
    "max(three_digit_products)"
   ]
  },
  {
   "cell_type": "code",
   "execution_count": null,
   "metadata": {},
   "outputs": [],
   "source": []
  }
 ],
 "metadata": {
  "kernelspec": {
   "display_name": "Python 3",
   "language": "python",
   "name": "python3"
  },
  "language_info": {
   "codemirror_mode": {
    "name": "ipython",
    "version": 3
   },
   "file_extension": ".py",
   "mimetype": "text/x-python",
   "name": "python",
   "nbconvert_exporter": "python",
   "pygments_lexer": "ipython3",
   "version": "3.7.4"
  }
 },
 "nbformat": 4,
 "nbformat_minor": 4
}
