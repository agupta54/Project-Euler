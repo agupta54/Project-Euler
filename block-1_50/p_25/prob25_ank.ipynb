{
 "cells": [
  {
   "cell_type": "markdown",
   "metadata": {},
   "source": [
    "# $1000$ Digit Fibonacci Number"
   ]
  },
  {
   "cell_type": "code",
   "execution_count": 1,
   "metadata": {},
   "outputs": [
    {
     "name": "stdout",
     "output_type": "stream",
     "text": [
      "4782\n"
     ]
    }
   ],
   "source": [
    "import math\n",
    "\n",
    "def FibFormula(x):\n",
    "    a = math.sqrt(5)\n",
    "    y = int(1 / a * (((1 + a) / 2)**x - ((1 - a) / 2)**x))\n",
    "    return y\n",
    "\n",
    "n = 1475\n",
    "L = [FibFormula(i) for i in range(n)]\n",
    "    \n",
    "i = n - 1\n",
    "while(i >= n - 1):\n",
    "    m = L[i] + L[i - 1]\n",
    "    L.append(m)\n",
    "    M = [i for i in str(m)]\n",
    "    if len(M) == 1000:\n",
    "        break\n",
    "    i = i + 1\n",
    "    \n",
    "print(i + 1)"
   ]
  },
  {
   "cell_type": "code",
   "execution_count": 2,
   "metadata": {},
   "outputs": [
    {
     "name": "stdout",
     "output_type": "stream",
     "text": [
      "108 ms ± 872 µs per loop (mean ± std. dev. of 7 runs, 10 loops each)\n"
     ]
    }
   ],
   "source": [
    "%%timeit\n",
    "\n",
    "n = 1475\n",
    "L = [FibFormula(i) for i in range(n)]\n",
    "    \n",
    "i = n - 1\n",
    "while(i >= n - 1):\n",
    "    m = L[i] + L[i - 1]\n",
    "    L.append(m)\n",
    "    M = [i for i in str(m)]\n",
    "    if len(M) == 1000:\n",
    "        break\n",
    "    i = i + 1"
   ]
  }
 ],
 "metadata": {
  "kernelspec": {
   "display_name": "Python 3",
   "language": "python",
   "name": "python3"
  },
  "language_info": {
   "codemirror_mode": {
    "name": "ipython",
    "version": 3
   },
   "file_extension": ".py",
   "mimetype": "text/x-python",
   "name": "python",
   "nbconvert_exporter": "python",
   "pygments_lexer": "ipython3",
   "version": "3.7.4"
  }
 },
 "nbformat": 4,
 "nbformat_minor": 2
}
