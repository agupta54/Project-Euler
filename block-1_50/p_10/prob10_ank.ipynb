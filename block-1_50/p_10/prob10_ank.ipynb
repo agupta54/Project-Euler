{
 "cells": [
  {
   "cell_type": "markdown",
   "metadata": {},
   "source": [
    "# Sum of Primes"
   ]
  },
  {
   "cell_type": "code",
   "execution_count": 1,
   "metadata": {},
   "outputs": [
    {
     "name": "stdout",
     "output_type": "stream",
     "text": [
      "142913828922\n"
     ]
    }
   ],
   "source": [
    "import math\n",
    "\n",
    "n = 2000000\n",
    "\n",
    "m = int(math.sqrt(2000000)) + 1\n",
    "\n",
    "def wilson_fact(x):\n",
    "    a = 1\n",
    "    for i in range(2,x):\n",
    "        a = a*i\n",
    "    return(a)\n",
    "\n",
    "M = []\n",
    "\n",
    "for i in range(2,m):\n",
    "    if wilson_fact(i)%i == i - 1:\n",
    "        M.append(i)\n",
    "\n",
    "def IsPrime(x):\n",
    "    b = 1\n",
    "    for i in M:\n",
    "        if x%i == 0:\n",
    "            b = 0 \n",
    "    if b == 1:\n",
    "        return(1)\n",
    "    else:\n",
    "        return(0)\n",
    "    \n",
    "L = []\n",
    "\n",
    "for i in range(m,n):\n",
    "    if IsPrime(i) == 1:\n",
    "        L.append(i)\n",
    "        \n",
    "N = M + L\n",
    "\n",
    "c = 0\n",
    "\n",
    "for i in N:\n",
    "    c = c + i\n",
    "\n",
    "print(c)"
   ]
  },
  {
   "cell_type": "code",
   "execution_count": 2,
   "metadata": {},
   "outputs": [
    {
     "name": "stdout",
     "output_type": "stream",
     "text": [
      "35.5 s ± 4.94 s per loop (mean ± std. dev. of 7 runs, 1 loop each)\n"
     ]
    }
   ],
   "source": [
    "%%timeit\n",
    "\n",
    "#import math\n",
    "\n",
    "n = 2000000\n",
    "\n",
    "m = int(math.sqrt(2000000)) + 1\n",
    "\n",
    "def wilson_fact(x):\n",
    "    a = 1\n",
    "    for i in range(2,x):\n",
    "        a = a*i\n",
    "    return(a)\n",
    "\n",
    "M = []\n",
    "\n",
    "for i in range(2,m):\n",
    "    if wilson_fact(i)%i == i - 1:\n",
    "        M.append(i)\n",
    "\n",
    "def IsPrime(x):\n",
    "    b = 1\n",
    "    for i in M:\n",
    "        if x%i == 0:\n",
    "            b = 0 \n",
    "    if b == 1:\n",
    "        return(1)\n",
    "    else:\n",
    "        return(0)\n",
    "    \n",
    "L = []\n",
    "\n",
    "for i in range(m,n):\n",
    "    if IsPrime(i) == 1:\n",
    "        L.append(i)\n",
    "        \n",
    "N = M + L\n",
    "\n",
    "c = 0\n",
    "\n",
    "for i in N:\n",
    "    c = c + i\n",
    "\n",
    "#print(c)"
   ]
  },
  {
   "cell_type": "code",
   "execution_count": null,
   "metadata": {},
   "outputs": [],
   "source": []
  }
 ],
 "metadata": {
  "kernelspec": {
   "display_name": "Python 3",
   "language": "python",
   "name": "python3"
  },
  "language_info": {
   "codemirror_mode": {
    "name": "ipython",
    "version": 3
   },
   "file_extension": ".py",
   "mimetype": "text/x-python",
   "name": "python",
   "nbconvert_exporter": "python",
   "pygments_lexer": "ipython3",
   "version": "3.7.4"
  }
 },
 "nbformat": 4,
 "nbformat_minor": 2
}
