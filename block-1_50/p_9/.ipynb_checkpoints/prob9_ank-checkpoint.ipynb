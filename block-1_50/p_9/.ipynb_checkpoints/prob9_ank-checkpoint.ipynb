{
 "cells": [
  {
   "cell_type": "markdown",
   "metadata": {},
   "source": [
    "# Pythagorean Triplets"
   ]
  },
  {
   "cell_type": "markdown",
   "metadata": {},
   "source": [
    "We have to find a common solution for the following equations:\n",
    "\n",
    "$$a + b + c = n$$\n",
    "\n",
    "$$a^2 + b^2 = c^2$$\n",
    "\n",
    "<br> **Constraints:**\n",
    "\n",
    "<br> $(1) \\ \\ a, b, c$ are *Natural Numbers*.\n",
    "\n",
    "<br> $(2) \\ \\ a < b < c$\n",
    "\n",
    "<br> One of the forms of the solution is: \n",
    "\n",
    "$$n = \\dfrac{ab}{\\dfrac{n}{2}-c}$$\n",
    "\n",
    "<br> From the constraints it can be deduced that $a < b < c < n$. But, from the solution, the bound can be improved and we can deduce that $a < b < c < \\dfrac{n}{2}$. Also, $ab > \\dfrac{n}{2} - c$. \n",
    "\n",
    "<br> **Note:** It is given that a *Unique Solution* exists."
   ]
  },
  {
   "cell_type": "code",
   "execution_count": 3,
   "metadata": {},
   "outputs": [
    {
     "name": "stdout",
     "output_type": "stream",
     "text": [
      "31875000\n"
     ]
    }
   ],
   "source": [
    "n = 1000\n",
    "m = int(n/2)\n",
    "\n",
    "L = []\n",
    "for i in range(3,m):\n",
    "    L.append(i)\n",
    "    \n",
    "M = []\n",
    "for i in range(4,m):\n",
    "    M.append(i)\n",
    "    \n",
    "N = []\n",
    "for i in range(5,m):\n",
    "    N.append(i)\n",
    "    \n",
    "for i in L:\n",
    "    for j in M:\n",
    "        for k in N:\n",
    "            if i + j + k == 1000 and n*(m - k) == i*j:\n",
    "                a = i*j*k\n",
    "                break\n",
    "\n",
    "print(a)"
   ]
  },
  {
   "cell_type": "code",
   "execution_count": 4,
   "metadata": {},
   "outputs": [
    {
     "name": "stdout",
     "output_type": "stream",
     "text": [
      "12.9 s ± 39.7 ms per loop (mean ± std. dev. of 7 runs, 1 loop each)\n"
     ]
    }
   ],
   "source": [
    "%%timeit\n",
    "\n",
    "n = 1000\n",
    "m = int(n/2)\n",
    "\n",
    "L = []\n",
    "for i in range(3,m):\n",
    "    L.append(i)\n",
    "    \n",
    "M = []\n",
    "for i in range(4,m):\n",
    "    M.append(i)\n",
    "    \n",
    "N = []\n",
    "for i in range(5,m):\n",
    "    N.append(i)\n",
    "    \n",
    "for i in L:\n",
    "    for j in M:\n",
    "        for k in N:\n",
    "            if i + j + k == 1000 and n*(m - k) == i*j:\n",
    "                a = i*j*k\n",
    "                break\n",
    "\n",
    "#print(a)"
   ]
  }
 ],
 "metadata": {
  "kernelspec": {
   "display_name": "Python 3",
   "language": "python",
   "name": "python3"
  },
  "language_info": {
   "codemirror_mode": {
    "name": "ipython",
    "version": 3
   },
   "file_extension": ".py",
   "mimetype": "text/x-python",
   "name": "python",
   "nbconvert_exporter": "python",
   "pygments_lexer": "ipython3",
   "version": "3.6.9"
  }
 },
 "nbformat": 4,
 "nbformat_minor": 2
}
