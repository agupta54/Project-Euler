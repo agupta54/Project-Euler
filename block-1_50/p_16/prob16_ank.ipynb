{
 "cells": [
  {
   "cell_type": "markdown",
   "metadata": {},
   "source": [
    "# Problem 16"
   ]
  },
  {
   "cell_type": "code",
   "execution_count": 2,
   "metadata": {},
   "outputs": [
    {
     "name": "stdout",
     "output_type": "stream",
     "text": [
      "1366\n"
     ]
    }
   ],
   "source": [
    "n = 2**1000\n",
    "\n",
    "L = [int(i) for i in str(n)]\n",
    "\n",
    "print(sum(L))"
   ]
  },
  {
   "cell_type": "code",
   "execution_count": 6,
   "metadata": {},
   "outputs": [
    {
     "name": "stdout",
     "output_type": "stream",
     "text": [
      "76.3 µs ± 1.22 µs per loop (mean ± std. dev. of 7 runs, 10000 loops each)\n"
     ]
    }
   ],
   "source": [
    "%%timeit\n",
    "\n",
    "n = 2**1000\n",
    "\n",
    "L = [int(i) for i in str(n)]\n",
    "\n",
    "m = sum(L)"
   ]
  },
  {
   "cell_type": "code",
   "execution_count": 27,
   "metadata": {},
   "outputs": [
    {
     "name": "stdout",
     "output_type": "stream",
     "text": [
      "[7, 43, 79, 106, 115, 178, 223, 259, 241, 349, 322, 385, 394, 439, 475, 484, 538, 574, 574, 646, 691, 691, 781, 709, 826, 862, 781, 907, 934, 961, 1042, 934, 997, 1042, 1177, 1204, 1141, 1339, 1204, 1312, 1330, 1249]\n"
     ]
    }
   ],
   "source": [
    "def PowerDigitSum(x):\n",
    "    L = [int(i) for i in str(x)]\n",
    "    return(sum(L))\n",
    "\n",
    "L = [PowerDigitSum(2**i) for i in range(4,1001,24)]\n",
    "\n",
    "print(L)"
   ]
  }
 ],
 "metadata": {
  "kernelspec": {
   "display_name": "Python 3",
   "language": "python",
   "name": "python3"
  },
  "language_info": {
   "codemirror_mode": {
    "name": "ipython",
    "version": 3
   },
   "file_extension": ".py",
   "mimetype": "text/x-python",
   "name": "python",
   "nbconvert_exporter": "python",
   "pygments_lexer": "ipython3",
   "version": "3.7.4"
  }
 },
 "nbformat": 4,
 "nbformat_minor": 2
}
