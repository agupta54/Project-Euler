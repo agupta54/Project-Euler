{
 "cells": [
  {
   "cell_type": "markdown",
   "metadata": {},
   "source": [
    "# Prime Number Theorem and Some Ramifications"
   ]
  },
  {
   "cell_type": "markdown",
   "metadata": {},
   "source": [
    "At the outset let us be clear that the word *Ramifications* is used in it's literal sense (nothing to do with **ramified** primes). From the days of yore, *Distribution of Primes* have been at the forefront of research in Number Theory. One of the jewels in the crown of this research field is the *Prime Number Theorem*. It tells us that how many prime numbers are there less than a given number $n$. *It counts primes*."
   ]
  },
  {
   "cell_type": "markdown",
   "metadata": {},
   "source": [
    "**Prime Number Therem** $$\\lim_{n \\to \\infty} \\dfrac{\\pi(n)}{\\dfrac{n}{\\ln (n)}} = 1$$\n",
    "\n",
    "<br> where, $\\pi(n)$ is the prime counting function. It gives the number of primes upto the natural number $n$. "
   ]
  },
  {
   "cell_type": "markdown",
   "metadata": {},
   "source": [
    "*Prime number Theorem* works well when the numbers are huge. But, it has an error when $n$ is comparatively small. We do some experiments below to test this:"
   ]
  },
  {
   "cell_type": "code",
   "execution_count": 88,
   "metadata": {},
   "outputs": [
    {
     "name": "stdout",
     "output_type": "stream",
     "text": [
      "4\n",
      "4\n",
      "21\n",
      "25\n",
      "144\n",
      "168\n",
      "1085\n",
      "1229\n",
      "8685\n",
      "72382\n"
     ]
    }
   ],
   "source": [
    "import math\n",
    "\n",
    "def wilson_fact(x):\n",
    "    a = 1\n",
    "    for i in range(2,x):\n",
    "        a = a*i\n",
    "    return(a)\n",
    "\n",
    "M10 = []\n",
    "\n",
    "for i in range(2,10):\n",
    "    if wilson_fact(i)%i == i - 1:\n",
    "        M10.append(i)\n",
    "\n",
    "a = int(10/math.log(10))\n",
    "print(a)\n",
    "print(len(M10))\n",
    "#print(M10)\n",
    "\n",
    "M100 = []\n",
    "\n",
    "for i in range(2,100):\n",
    "    if wilson_fact(i)%i == i - 1:\n",
    "        M100.append(i)\n",
    "        \n",
    "b = int(100/math.log(100))\n",
    "print(b)\n",
    "print(len(M100))\n",
    "#print(M100)\n",
    "\n",
    "M1000 = []\n",
    "\n",
    "for i in range(2,1000):\n",
    "    if wilson_fact(i)%i == i - 1:\n",
    "        M1000.append(i)\n",
    "\n",
    "c = int(1000/math.log(1000))\n",
    "print(c)\n",
    "print(len(M1000))\n",
    "#print(M1000)\n",
    "\n",
    "M10000 = []\n",
    "\n",
    "for i in range(2,10000):\n",
    "    if wilson_fact(i)%i == i - 1:\n",
    "        M10000.append(i)\n",
    "\n",
    "d = int(10000/math.log(10000))\n",
    "print(d)\n",
    "print(len(M10000))\n",
    "#print(M10000)\n",
    "\n",
    "e = int(100000/math.log(100000))\n",
    "print(e)\n",
    "\n",
    "f = int(1000000/math.log(1000000))\n",
    "print(f)"
   ]
  },
  {
   "cell_type": "markdown",
   "metadata": {},
   "source": [
    "We see here that there is a relative error. But, the relative error decreases as $n$ increases. Without, much further ado, we move on to our specific problem from **Project Euler**."
   ]
  },
  {
   "cell_type": "markdown",
   "metadata": {},
   "source": [
    "# Attempt 1:"
   ]
  },
  {
   "cell_type": "markdown",
   "metadata": {},
   "source": [
    "This attempt was to understand that how the primes are distributed in a small range."
   ]
  },
  {
   "cell_type": "code",
   "execution_count": 89,
   "metadata": {},
   "outputs": [
    {
     "name": "stdout",
     "output_type": "stream",
     "text": [
      "[116663, 116681, 116687, 116689, 116707]\n",
      "116659\n",
      "9999\n",
      "116710\n",
      "10003\n",
      "4\n",
      "5\n",
      "168\n",
      "144\n"
     ]
    }
   ],
   "source": [
    "import math\n",
    "\n",
    "def wilson_fact(x):\n",
    "    a = 1\n",
    "    for i in range(2,x):\n",
    "        a = a*i\n",
    "    return(a)\n",
    "\n",
    "M = []\n",
    "\n",
    "for i in range(2,1000):\n",
    "    if wilson_fact(i)%i == i - 1:\n",
    "        M.append(i)\n",
    "\n",
    "b = 1\n",
    "\n",
    "def IsPrime(x):\n",
    "    for i in M:\n",
    "        N = []\n",
    "        if x%i == 0:\n",
    "            b = i\n",
    "            break\n",
    "        else:\n",
    "            N.append(x)\n",
    "    \n",
    "    if len(N) == 0:\n",
    "        return(0)\n",
    "    else:\n",
    "        return(1)\n",
    "\n",
    "n = 10001\n",
    "\n",
    "for i in range(100,1000000):\n",
    "    pi_i1 = int(i/math.log(i))\n",
    "    if pi_i1 == n + 2:\n",
    "        m = i\n",
    "        break\n",
    "        \n",
    "for i in range(100,1000000):\n",
    "    pi_i2 = int(i/math.log(i))\n",
    "    if pi_i2 == n - 2:\n",
    "        p = i\n",
    "        break\n",
    "\n",
    "L = []\n",
    "\n",
    "d = 1\n",
    "\n",
    "for i in range(p,m,1):\n",
    "    d = i\n",
    "    if IsPrime(i) == 1:\n",
    "        L.append(i)\n",
    "\n",
    "print(L)\n",
    "\n",
    "print(p)\n",
    "q = int(p/math.log(p))\n",
    "print(q)\n",
    "\n",
    "print(m)\n",
    "r = int(m/math.log(m))\n",
    "print(r)\n",
    "\n",
    "s = r - q\n",
    "print(s)\n",
    "print(len(L))\n",
    "\n",
    "print(len(M))\n",
    "t = int(1000/math.log(1000))\n",
    "print(t)"
   ]
  },
  {
   "cell_type": "markdown",
   "metadata": {},
   "source": [
    "# IsPrime() Function for Primality testing less than 1000000"
   ]
  },
  {
   "cell_type": "code",
   "execution_count": 80,
   "metadata": {},
   "outputs": [
    {
     "data": {
      "text/plain": [
       "1"
      ]
     },
     "execution_count": 80,
     "metadata": {},
     "output_type": "execute_result"
    }
   ],
   "source": [
    "def wilson_fact(x):\n",
    "    a = 1\n",
    "    for i in range(2,x):\n",
    "        a = a*i\n",
    "    return(a)\n",
    "\n",
    "M = []\n",
    "\n",
    "for i in range(2,1000):\n",
    "    if wilson_fact(i)%i == i - 1:\n",
    "        M.append(i)\n",
    "\n",
    "\n",
    "def IsPrime(x):\n",
    "    d = 1\n",
    "    for i in M:\n",
    "        if x%i == 0:\n",
    "            d = 0 \n",
    "    if d == 1:\n",
    "        return(1)\n",
    "    else:\n",
    "        return(0)\n",
    "\n",
    "IsPrime(1009)"
   ]
  },
  {
   "cell_type": "markdown",
   "metadata": {},
   "source": [
    "# The 10001st Prime"
   ]
  },
  {
   "cell_type": "code",
   "execution_count": 87,
   "metadata": {},
   "outputs": [
    {
     "name": "stdout",
     "output_type": "stream",
     "text": [
      "Answer: 104743\n",
      "11016\n",
      "116684\n"
     ]
    }
   ],
   "source": [
    "import math\n",
    "\n",
    "def wilson_fact(x):\n",
    "    a = 1\n",
    "    for i in range(2,x):\n",
    "        a = a*i\n",
    "    return(a)\n",
    "\n",
    "M = []\n",
    "\n",
    "for i in range(2,1000):\n",
    "    if wilson_fact(i)%i == i - 1:\n",
    "        M.append(i)\n",
    "\n",
    "def IsPrime(x):\n",
    "    b = 1\n",
    "    for i in M:\n",
    "        if x%i == 0:\n",
    "            b = 0 \n",
    "    if b == 1:\n",
    "        return(1)\n",
    "    else:\n",
    "        return(0)\n",
    "    \n",
    "n = 10001\n",
    "\n",
    "for i in range(100,1000000):\n",
    "    pi_i1 = int(i/math.log(i))\n",
    "    if pi_i1 == n:\n",
    "        m = i\n",
    "        break\n",
    "        \n",
    "L = []\n",
    "\n",
    "for i in range(1000,m):\n",
    "    if IsPrime(i) == 1:\n",
    "        L.append(i)\n",
    "        \n",
    "N = M + L\n",
    "\n",
    "print('Answer:', N[10000])\n",
    "print(len(N))\n",
    "print(m)"
   ]
  },
  {
   "cell_type": "code",
   "execution_count": 86,
   "metadata": {},
   "outputs": [
    {
     "name": "stdout",
     "output_type": "stream",
     "text": [
      "1.53 s ± 12.9 ms per loop (mean ± std. dev. of 7 runs, 1 loop each)\n"
     ]
    }
   ],
   "source": [
    "%%timeit\n",
    "\n",
    "#import math\n",
    "\n",
    "def wilson_fact(x):\n",
    "    a = 1\n",
    "    for i in range(2,x):\n",
    "        a = a*i\n",
    "    return(a)\n",
    "\n",
    "M = []\n",
    "\n",
    "for i in range(2,1000):\n",
    "    if wilson_fact(i)%i == i - 1:\n",
    "        M.append(i)\n",
    "\n",
    "def IsPrime(x):\n",
    "    b = 1\n",
    "    for i in M:\n",
    "        if x%i == 0:\n",
    "            b = 0 \n",
    "    if b == 1:\n",
    "        return(1)\n",
    "    else:\n",
    "        return(0)\n",
    "    \n",
    "n = 10001\n",
    "\n",
    "for i in range(100,1000000):\n",
    "    pi_i1 = int(i/math.log(i))\n",
    "    if pi_i1 == n:\n",
    "        m = i\n",
    "        break\n",
    "        \n",
    "L = []\n",
    "\n",
    "for i in range(1000,m):\n",
    "    if IsPrime(i) == 1:\n",
    "        L.append(i)\n",
    "        \n",
    "N = M + L\n",
    "\n",
    "#print(N[10000])\n",
    "#print(len(N))\n",
    "#print(m)"
   ]
  },
  {
   "cell_type": "code",
   "execution_count": null,
   "metadata": {},
   "outputs": [],
   "source": []
  }
 ],
 "metadata": {
  "kernelspec": {
   "display_name": "Python 3",
   "language": "python",
   "name": "python3"
  },
  "language_info": {
   "codemirror_mode": {
    "name": "ipython",
    "version": 3
   },
   "file_extension": ".py",
   "mimetype": "text/x-python",
   "name": "python",
   "nbconvert_exporter": "python",
   "pygments_lexer": "ipython3",
   "version": "3.7.4"
  }
 },
 "nbformat": 4,
 "nbformat_minor": 2
}
