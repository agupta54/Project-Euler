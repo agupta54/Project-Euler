{
 "cells": [
  {
   "cell_type": "markdown",
   "metadata": {},
   "source": [
    "# The Smallest Multiple Problem"
   ]
  },
  {
   "cell_type": "markdown",
   "metadata": {},
   "source": [
    "**This problem showed me that I do *not* know how to code.** \n",
    "\n",
    "<br> I could solve the problem without the code in less than $3$ minutes. Writing the code took me around $2$ hours. A bit *ashamed*. "
   ]
  },
  {
   "cell_type": "code",
   "execution_count": 88,
   "metadata": {},
   "outputs": [
    {
     "name": "stdout",
     "output_type": "stream",
     "text": [
      "232792560\n"
     ]
    }
   ],
   "source": [
    "def wilson_fact(x):\n",
    "    a = 1\n",
    "    for i in range(2,x):\n",
    "        a = a*i\n",
    "    return(a)\n",
    "\n",
    "L = []\n",
    "\n",
    "for i in range(2,21):\n",
    "    if wilson_fact(i)%i == i - 1:\n",
    "        L.append(i)\n",
    "        \n",
    "M = []\n",
    "\n",
    "for i in range(len(L)):\n",
    "    for j in range(2,5):\n",
    "        k = L[i]**j\n",
    "        if k < 20:\n",
    "            c = k\n",
    "    M.append(c)\n",
    "\n",
    "N = []\n",
    "\n",
    "for i in range(len(M)):\n",
    "    if M[i - 1] != M[i]:\n",
    "        d = M[i]\n",
    "        N.append(d)\n",
    "\n",
    "for i in range(len(L)):\n",
    "    for j in range(len(N)):\n",
    "        if N[j]%L[i] == 0:\n",
    "            L.insert(i,N[j])\n",
    "            L.remove(L[i + 1])\n",
    "            break\n",
    "\n",
    "b = 1\n",
    "\n",
    "for i in L:\n",
    "    b = b*i\n",
    "\n",
    "print(b)"
   ]
  },
  {
   "cell_type": "code",
   "execution_count": 57,
   "metadata": {},
   "outputs": [
    {
     "data": {
      "text/plain": [
       "232792560"
      ]
     },
     "execution_count": 57,
     "metadata": {},
     "output_type": "execute_result"
    }
   ],
   "source": [
    "16*9*5*7*11*13*17*19"
   ]
  },
  {
   "cell_type": "code",
   "execution_count": 90,
   "metadata": {},
   "outputs": [
    {
     "name": "stdout",
     "output_type": "stream",
     "text": [
      "47.8 µs ± 743 ns per loop (mean ± std. dev. of 7 runs, 10000 loops each)\n"
     ]
    }
   ],
   "source": [
    "%%timeit\n",
    "\n",
    "def wilson_fact(x):\n",
    "    a = 1\n",
    "    for i in range(2,x):\n",
    "        a = a*i\n",
    "    return(a)\n",
    "\n",
    "L = []\n",
    "\n",
    "for i in range(2,21):\n",
    "    if wilson_fact(i)%i == i - 1:\n",
    "        L.append(i)\n",
    "        \n",
    "M = []\n",
    "\n",
    "for i in range(len(L)):\n",
    "    for j in range(2,5):\n",
    "        k = L[i]**j\n",
    "        if k < 20:\n",
    "            c = k\n",
    "    M.append(c)\n",
    "\n",
    "N = []\n",
    "\n",
    "for i in range(len(M)):\n",
    "    if M[i - 1] != M[i]:\n",
    "        d = M[i]\n",
    "        N.append(d)\n",
    "\n",
    "for i in range(len(L)):\n",
    "    for j in range(len(N)):\n",
    "        if N[j]%L[i] == 0:\n",
    "            L.insert(i,N[j])\n",
    "            L.remove(L[i + 1])\n",
    "            break\n",
    "\n",
    "b = 1\n",
    "\n",
    "for i in L:\n",
    "    b = b*i\n",
    "\n",
    "#print(b)"
   ]
  }
 ],
 "metadata": {
  "kernelspec": {
   "display_name": "Python 3",
   "language": "python",
   "name": "python3"
  },
  "language_info": {
   "codemirror_mode": {
    "name": "ipython",
    "version": 3
   },
   "file_extension": ".py",
   "mimetype": "text/x-python",
   "name": "python",
   "nbconvert_exporter": "python",
   "pygments_lexer": "ipython3",
   "version": "3.7.4"
  }
 },
 "nbformat": 4,
 "nbformat_minor": 2
}
