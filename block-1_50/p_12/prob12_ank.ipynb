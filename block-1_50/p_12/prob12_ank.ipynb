{
 "cells": [
  {
   "cell_type": "markdown",
   "metadata": {},
   "source": [
    "# Triangular Numbers"
   ]
  },
  {
   "cell_type": "markdown",
   "metadata": {},
   "source": [
    "**Definition:** *(Triangular Number)* $n^{th}$ Triangular Number is a number which is the sum of $n$ consecutive natural numbers starting at $1$. \n",
    "\n",
    "<br> *Proposition $1$:* A $n^{th}$ Triangular number $x$ can be written as: \n",
    "\n",
    "$$x = \\dfrac{n(n + 1)}{2}$$\n",
    "\n",
    "<br> *Remark:* A *Triangular Number* ($x$) is never a prime if $n > 2$\n",
    "\n",
    "<br> **Definition:** *(Divisor Counting Function)* A divisor counting function of a natural number $x$, denoted by $\\sigma(x)$, counts all the divisors of the natural number $x$ including $1$ and $x$. \n",
    "\n",
    "<br> **Note:** By definition the divisors of a natural number $x$ can't be greater than itself. \n",
    "\n",
    "<br> *Theorem:* *(Prime Factorization Theorem)* Any number $x \\ \\in \\ \\mathbb{Z}$ can be represented as:\n",
    "\n",
    "$$x = \\prod\\limits_{i}^{j} {p_i}^{m_i}$$\n",
    "\n",
    "<br> where, the prime $p_i \\geq 2$ and $p_i|x$ for $1 \\leq i \\leq j$, $m_i \\geq 1$, and $j \\geq i \\geq 1$.\n",
    "\n",
    "<br> upto **isomorphism**.\n",
    "\n",
    "<br> where, $p_i \\geq 2$, $m_i \\geq 1$, and $j \\geq i \\geq 1$. \n",
    "\n",
    "<br> *Lemma $1$:* If $p$ is a prime, the *Divisor Counting Function* $\\sigma(p)$ of the prime $p$ is $2$.\n",
    "\n",
    "<br> *Proof:* Recalling the definition of any prime $(p)$, the lemma can be concluded immediately.\n",
    "\n",
    "<br> *Lemma $2$:* If, we consider two natural numbers $(x \\ and \\ y)$ such that $gcd(x,y) = 1$, then the *Divisor Counting Function* is multiplicative. \n",
    "\n",
    "<br> *Proof:* By the *Prime Factorization Theorem* we have:\n",
    "\n",
    "$$x = \\prod\\limits_{i}^{j} {p_i}^{m_i}$$\n",
    "\n",
    "$$y = \\prod\\limits_{i}^{j} {q_i}^{r_i}$$\n",
    "\n",
    "<br> where, the primes $p_i \\ and \\ q_i \\geq 2$, $m_i \\ and \\ r_i \\geq 1$, and $j \\geq i \\geq 1$. \n",
    "\n",
    "<br> Since, $gcd(x,y) = 1$. Hence, $p_i \\neq q_i$ for all $1 \\leq i \\leq j$. Using induction on $m_i \\ and \\ r_i$, we can deduce that:\n",
    "\n",
    "$$\\sigma(xy) = \\sigma(x) \\sigma(y)$$.\n",
    "\n",
    "<br> **Note:** In the first step of induction, *Lemma $1$* is useful. Later, it is just a counting argument. \n",
    "\n",
    "<br> *Proposition $2$:* The number of divisors of a natural number $(x = \\prod\\limits_{i}^{j} {p_i}^{m_i})$ is:\n",
    "\n",
    "$$\\sigma(x) = \\prod\\limits_{i}^{j} (m_i + 1)$$\n",
    "\n",
    "<br> where, $p_i \\geq 2$, $m_i \\geq 1$, and $j \\geq i \\geq 1$.\n",
    "\n",
    "<br> *Proof:* A simple *counting* argument after using the proposed lemmas, will prove the proposition $2$.\n",
    "\n",
    "<br> *Proposition $3$:* For a composite number $x$ and a prime $p$ which divides $x$: \n",
    "\n",
    "$$\\sigma({p_i}^{m} x) = \\sigma(x)\\left(1 + \\dfrac{m}{m_i + 1}\\right) $$\n",
    "\n",
    "<br> **Remark:** Although, this formula is correct. But, there are complications to implement this. Hence, a simpler idea is used. A Triangular number can be expressed as $x = \\dfrac{n(n + 1)}{2}$. It is interesting to note that for any $n$, $gcd\\left( \\dfrac{n}{2}, n + 1 \\right) = 1$ and $gcd\\left( \\dfrac{n + 1}{2}, n \\right) = 1$.   \n",
    "\n",
    "\n",
    "<br> Now, let us analyze the divisors of triangular numbers."
   ]
  },
  {
   "cell_type": "markdown",
   "metadata": {},
   "source": [
    "# TriangularNumber()"
   ]
  },
  {
   "cell_type": "code",
   "execution_count": 2,
   "metadata": {},
   "outputs": [],
   "source": [
    "def TriangularNumber(x):\n",
    "    a = int((x*(x + 1))/2)\n",
    "    return(a)"
   ]
  },
  {
   "cell_type": "markdown",
   "metadata": {},
   "source": [
    "# PrimeSieve()"
   ]
  },
  {
   "cell_type": "code",
   "execution_count": 3,
   "metadata": {},
   "outputs": [],
   "source": [
    "#Sieve of Erato Baba\n",
    "\n",
    "import math\n",
    "\n",
    "def IsPrime(x):\n",
    "    a = int(math.sqrt(x))\n",
    "    b = 1\n",
    "    for i in range(2,a):\n",
    "        if x%i == 0:\n",
    "            b = 0\n",
    "            break\n",
    "    \n",
    "    if b == 1:\n",
    "        return(1)\n",
    "    else:\n",
    "        return(0)        \n",
    "        \n",
    "def Multiples(x,y):\n",
    "    L = []\n",
    "    i = 2\n",
    "    a = i*x\n",
    "    while(a <= y):\n",
    "        L.append(a)\n",
    "        i = i + 1\n",
    "        a = i*x\n",
    "        \n",
    "    return(L)\n",
    "\n",
    "def PrimeSieve(x):\n",
    "    L = []\n",
    "    for i in range(2,x + 1):\n",
    "        L.append(i)\n",
    "        \n",
    "    a = int(math.sqrt(x))\n",
    "        \n",
    "    for i in range(2,a + 1):\n",
    "        if IsPrime(i) == 1:\n",
    "            L = set(L) - set(Multiples(i,x))\n",
    "\n",
    "    return(sorted(L))"
   ]
  },
  {
   "cell_type": "markdown",
   "metadata": {},
   "source": [
    "# PrimeDiv() "
   ]
  },
  {
   "cell_type": "code",
   "execution_count": 4,
   "metadata": {},
   "outputs": [],
   "source": [
    "def PrimeDiv(x):\n",
    "    L = PrimeSieve(x)\n",
    "    M = []\n",
    "    for i in L:\n",
    "        if x%i == 0:\n",
    "            M.append(i)      \n",
    "    return(M)"
   ]
  },
  {
   "cell_type": "markdown",
   "metadata": {},
   "source": [
    "# HighestPrimePowDiv()"
   ]
  },
  {
   "cell_type": "code",
   "execution_count": 5,
   "metadata": {},
   "outputs": [],
   "source": [
    "def HighestPrimePowDiv(x,y):\n",
    "    i = 1\n",
    "    a = 1\n",
    "    b = 1\n",
    "    while(a%y == 0 and a != 0 or b == 1):\n",
    "        b = y**i\n",
    "        a = x//b\n",
    "        i = i + 1\n",
    "    \n",
    "    return(i - 1)"
   ]
  },
  {
   "cell_type": "markdown",
   "metadata": {},
   "source": [
    "# NumDiv()"
   ]
  },
  {
   "cell_type": "code",
   "execution_count": 6,
   "metadata": {},
   "outputs": [],
   "source": [
    "def NumDiv(x):\n",
    "    L = PrimeDiv(x)\n",
    "    \n",
    "    if len(L) == 0:\n",
    "        a = 2\n",
    "        \n",
    "    else:\n",
    "        a = 1\n",
    "        for i in L:\n",
    "            a = a*(HighestPrimePowDiv(x,i) + 1)\n",
    "    \n",
    "    return(a)"
   ]
  },
  {
   "cell_type": "markdown",
   "metadata": {},
   "source": [
    "# Problem 12"
   ]
  },
  {
   "cell_type": "code",
   "execution_count": 1,
   "metadata": {},
   "outputs": [],
   "source": [
    "import math\n",
    "\n",
    "def TriangularNumber(x):\n",
    "    a = int((x*(x + 1))/2)\n",
    "    return(a)\n",
    "\n",
    "def IsPrime(x):\n",
    "    a = int(math.sqrt(x))\n",
    "    b = 1\n",
    "    for i in range(2,a):\n",
    "        if x%i == 0:\n",
    "            b = 0\n",
    "            break\n",
    "    \n",
    "    if b == 1:\n",
    "        return(1)\n",
    "    else:\n",
    "        return(0)        \n",
    "        \n",
    "def Multiples(x,y):\n",
    "    L = []\n",
    "    i = 2\n",
    "    a = i*x\n",
    "    while(a <= y):\n",
    "        L.append(a)\n",
    "        i = i + 1\n",
    "        a = i*x\n",
    "        \n",
    "    return(L)\n",
    "\n",
    "def PrimeSieve(x):\n",
    "    L = []\n",
    "    for i in range(2,x + 1):\n",
    "        L.append(i)\n",
    "        \n",
    "    a = int(math.sqrt(x))\n",
    "        \n",
    "    for i in range(2,a + 1):\n",
    "        if IsPrime(i) == 1:\n",
    "            L = set(L) - set(Multiples(i,x))\n",
    "\n",
    "    return(sorted(L))\n",
    "\n",
    "def PrimeDiv(x):\n",
    "    L = PrimeSieve(x)\n",
    "    M = []\n",
    "    for i in L:\n",
    "        if x%i == 0:\n",
    "            M.append(i)      \n",
    "    return(M)\n",
    "\n",
    "def HighestPrimePowDiv(x,y):\n",
    "    i = 1\n",
    "    a = 1\n",
    "    b = 1\n",
    "    while(a%y == 0 and a != 0 or b == 1):\n",
    "        b = y**i\n",
    "        a = x//b\n",
    "        i = i + 1\n",
    "    \n",
    "    return(i - 1)\n",
    "\n",
    "def NumDiv(x):\n",
    "    L = PrimeDiv(x)\n",
    "    \n",
    "    if len(L) == 0:\n",
    "        a = 2\n",
    "        \n",
    "    else:\n",
    "        a = 1\n",
    "        for i in L:\n",
    "            a = a*(HighestPrimePowDiv(x,i) + 1)\n",
    "    \n",
    "    return(a)"
   ]
  },
  {
   "cell_type": "markdown",
   "metadata": {},
   "source": [
    "# Attempt 1 (The Formula used is unnecessary)"
   ]
  },
  {
   "cell_type": "code",
   "execution_count": 18,
   "metadata": {},
   "outputs": [],
   "source": [
    "Z = [int(((NumDiv(i))*(NumDiv(i + 1)))*((HighestPrimePowDiv(i,2) + 1)/(HighestPrimePowDiv(i,2) + 2))) for i in range(10000,10500) if (TriangularNumber(i))%2 == 0]\n",
    "\n",
    "for i in range(len(Z)):\n",
    "    if Z[i] > 500:\n",
    "        print(TriangularNumber(i + 11499))\n",
    "        \n",
    "Y = [((NumDiv(i))*(NumDiv(i + 1)))//2 for i in range(11500,12500) if (TriangularNumber(i))%2 == 0]\n",
    "\n",
    "for i in Y:\n",
    "    if i > 400:\n",
    "        print(TriangularNumber(i))"
   ]
  },
  {
   "cell_type": "markdown",
   "metadata": {},
   "source": [
    "# Final (Started on March 01, 2020 and Finished on March 06, 2020)"
   ]
  },
  {
   "cell_type": "code",
   "execution_count": 18,
   "metadata": {},
   "outputs": [
    {
     "name": "stdout",
     "output_type": "stream",
     "text": [
      "76576500\n"
     ]
    }
   ],
   "source": [
    "for i in range(11500,12500):\n",
    "    if i%2 == 0:\n",
    "        a = i//2\n",
    "        b = NumDiv(a)*NumDiv(i + 1)\n",
    "        if b > 500:\n",
    "            print(TriangularNumber(i))\n",
    "            \n",
    "    else:\n",
    "        c = (i + 1)//2\n",
    "        d = NumDiv(c)*NumDiv(i)\n",
    "        if d > 500:\n",
    "            print(TriangularNumber(i))"
   ]
  },
  {
   "cell_type": "code",
   "execution_count": 20,
   "metadata": {},
   "outputs": [
    {
     "name": "stdout",
     "output_type": "stream",
     "text": [
      "19.1 s ± 211 ms per loop (mean ± std. dev. of 7 runs, 1 loop each)\n"
     ]
    }
   ],
   "source": [
    "%%timeit\n",
    "\n",
    "for i in range(11500,12500):\n",
    "    if i%2 == 0:\n",
    "        a = i//2\n",
    "        b = NumDiv(a)*NumDiv(i + 1)\n",
    "        if b > 500:\n",
    "            TriangularNumber(i)\n",
    "            \n",
    "    else:\n",
    "        c = (i + 1)//2\n",
    "        d = NumDiv(c)*NumDiv(i)\n",
    "        if d > 500:\n",
    "            TriangularNumber(i)"
   ]
  }
 ],
 "metadata": {
  "kernelspec": {
   "display_name": "Python 3",
   "language": "python",
   "name": "python3"
  },
  "language_info": {
   "codemirror_mode": {
    "name": "ipython",
    "version": 3
   },
   "file_extension": ".py",
   "mimetype": "text/x-python",
   "name": "python",
   "nbconvert_exporter": "python",
   "pygments_lexer": "ipython3",
   "version": "3.7.4"
  }
 },
 "nbformat": 4,
 "nbformat_minor": 2
}
