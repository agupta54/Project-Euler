{
 "cells": [
  {
   "cell_type": "markdown",
   "metadata": {},
   "source": [
    "# Problem 2 (Sum of Even Numbers (Entries) of a Fibonacci Series)"
   ]
  },
  {
   "cell_type": "markdown",
   "metadata": {},
   "source": [
    "**Note:** We will use Binet's formula for generating Fibonacci sequence. One can fint the proof here: https://artofproblemsolving.com/wiki/index.php/Binet%27s_Formula. Also, the linear algebraic proof is something awesome."
   ]
  },
  {
   "cell_type": "markdown",
   "metadata": {},
   "source": [
    "*Lemma:* Let, $F_n$ denote the $n^{th}$ Fibonacci Number. If $3|n$, then $F_n$ is even."
   ]
  },
  {
   "cell_type": "markdown",
   "metadata": {},
   "source": [
    "*Proof:* We start with $F_0 = 0$ and $F_1 = 1$. We recall the following:\n",
    "\n",
    "<br>$(1)$ EVEN + EVEN = EVEN\n",
    "<br>$(2)$ EVEN + ODD = ODD + EVEN = ODD\n",
    "<br>$(3)$ ODD + ODD = EVEN\n",
    "\n",
    "<br>Following this we have:\n",
    "\n",
    "<br>$F_0 + F_1 = F_2$ (EVEN + ODD = ODD),\n",
    "<br>$F_1 + F_2 = F_3$ (ODD + ODD = EVEN),\n",
    "<br>$F_2 + F_3 = F_4$ (ODD + EVEN = ODD),\n",
    "<br>$F_3 + F_4 = F_5$ (EVEN + ODD = ODD),\n",
    "<br>$F_4 + F_5 = F_6$ (ODD + ODD = EVEN)\n",
    "\n",
    "<br>This continues *ad infinitum* (countable), and hence proves the lemma. \n"
   ]
  },
  {
   "cell_type": "code",
   "execution_count": 2,
   "metadata": {},
   "outputs": [
    {
     "name": "stdout",
     "output_type": "stream",
     "text": [
      "4613732\n",
      "[3, 6, 9, 12, 15, 18, 21, 24, 27, 30, 33]\n"
     ]
    }
   ],
   "source": [
    "import math\n",
    "\n",
    "a = 0\n",
    "b = math.sqrt(5)\n",
    "n = 11\n",
    "L = [3 + i*3 for i in range(n)]\n",
    "for i in L:\n",
    "    a = a + int(1 / b * (((1 + b) / 2)**i - ((1 - b) / 2)**i))\n",
    "print(a)\n",
    "print(L)"
   ]
  },
  {
   "cell_type": "code",
   "execution_count": 6,
   "metadata": {},
   "outputs": [
    {
     "name": "stdout",
     "output_type": "stream",
     "text": [
      "8.08 µs ± 71.3 ns per loop (mean ± std. dev. of 7 runs, 100000 loops each)\n"
     ]
    }
   ],
   "source": [
    "%%timeit\n",
    "a = 0\n",
    "b = math.sqrt(5)\n",
    "n = 11\n",
    "L = [3 + i*3 for i in range(n)]\n",
    "for i in L:\n",
    "    a = a + int(1 / b * (((1 + b) / 2)**i - ((1 - b) / 2)**i))"
   ]
  },
  {
   "cell_type": "code",
   "execution_count": 34,
   "metadata": {},
   "outputs": [
    {
     "name": "stdout",
     "output_type": "stream",
     "text": [
      "4613732\n",
      "[3, 6, 9, 12, 15, 18, 21, 24, 27, 30, 33]\n",
      "33\n"
     ]
    }
   ],
   "source": [
    "import math\n",
    "\n",
    "a = 0\n",
    "b = math.sqrt(5)\n",
    "c = 4000000\n",
    "L1 = [3 + i*3 for i in range(100)]\n",
    "for i in L1:\n",
    "    d = int(1 / b * (((1 + b) / 2)**i - ((1 - b) / 2)**i))\n",
    "    if d > c:\n",
    "        j = i - 3\n",
    "        break\n",
    "k = int(j/3)        \n",
    "L2 = [3 + i*3 for i in range(k)]\n",
    "for i in L2:\n",
    "    a = a + int(1 / b * (((1 + b) / 2)**i - ((1 - b) / 2)**i))\n",
    "print(a)\n",
    "print(L2)\n",
    "print(j)"
   ]
  },
  {
   "cell_type": "code",
   "execution_count": 71,
   "metadata": {},
   "outputs": [
    {
     "name": "stdout",
     "output_type": "stream",
     "text": [
      "35.8 µs ± 802 ns per loop (mean ± std. dev. of 7 runs, 10000 loops each)\n"
     ]
    }
   ],
   "source": [
    "%%timeit\n",
    "\n",
    "a = 0\n",
    "b = math.sqrt(5)\n",
    "c = 4000000\n",
    "L1 = [3 + i*3 for i in range(100)]\n",
    "for i in L1:\n",
    "    d = int(1 / b * (((1 + b) / 2)**i - ((1 - b) / 2)**i))\n",
    "    if d > c:\n",
    "        j = i - 3\n",
    "        break\n",
    "k = int(j/3)        \n",
    "L2 = [3 + i*3 for i in range(k)]\n",
    "for i in L2:\n",
    "    a = a + int(1 / b * (((1 + b) / 2)**i - ((1 - b) / 2)**i))"
   ]
  },
  {
   "cell_type": "code",
   "execution_count": 70,
   "metadata": {},
   "outputs": [
    {
     "name": "stdout",
     "output_type": "stream",
     "text": [
      "4613732\n"
     ]
    }
   ],
   "source": [
    "import math\n",
    "\n",
    "a = 0\n",
    "b = math.sqrt(5)\n",
    "c = 4000000\n",
    "L = [3 + i*3 for i in range(100)]\n",
    "for i in L:\n",
    "    d = int(1/b*(((1 + b)/2)**(i) - ((1 - b)/2)**(i)))\n",
    "    if d > c:\n",
    "        break\n",
    "    a = a + d\n",
    "print(a)"
   ]
  },
  {
   "cell_type": "code",
   "execution_count": 68,
   "metadata": {},
   "outputs": [
    {
     "name": "stdout",
     "output_type": "stream",
     "text": [
      "23.5 µs ± 733 ns per loop (mean ± std. dev. of 7 runs, 10000 loops each)\n"
     ]
    }
   ],
   "source": [
    "%%timeit\n",
    "a = 0\n",
    "b = math.sqrt(5)\n",
    "c = 4000000\n",
    "L = [3 + i*3 for i in range(100)]\n",
    "for i in L:\n",
    "    d = int(1/b*(((1 + b)/2)**(i) - ((1 - b)/2)**(i)))\n",
    "    if d > c:\n",
    "        break\n",
    "    a = a + d"
   ]
  },
  {
   "cell_type": "code",
   "execution_count": 57,
   "metadata": {},
   "outputs": [
    {
     "name": "stdout",
     "output_type": "stream",
     "text": [
      "4613732\n"
     ]
    }
   ],
   "source": [
    "import math\n",
    "\n",
    "a = 0\n",
    "b = math.sqrt(5)\n",
    "c = 4000000\n",
    "L = [3 + i*3 for i in range(50)]\n",
    "for i in L:\n",
    "    d = int(1/b*(((1 + b)/2)**(i) - ((1 - b)/2)**(i)))\n",
    "    if d > c:\n",
    "        break\n",
    "    a = a + d    \n",
    "print(a)"
   ]
  },
  {
   "cell_type": "code",
   "execution_count": 67,
   "metadata": {},
   "outputs": [
    {
     "name": "stdout",
     "output_type": "stream",
     "text": [
      "18.6 µs ± 188 ns per loop (mean ± std. dev. of 7 runs, 100000 loops each)\n"
     ]
    }
   ],
   "source": [
    "%%timeit\n",
    "a = 0\n",
    "b = math.sqrt(5)\n",
    "c = 4000000\n",
    "L = [3 + i*3 for i in range(50)]\n",
    "for i in L:\n",
    "    d = int(1/b*(((1 + b)/2)**(i) - ((1 - b)/2)**(i)))\n",
    "    if d > c:\n",
    "        break\n",
    "    a = a + d"
   ]
  },
  {
   "cell_type": "code",
   "execution_count": 65,
   "metadata": {},
   "outputs": [
    {
     "name": "stdout",
     "output_type": "stream",
     "text": [
      "4613732\n"
     ]
    }
   ],
   "source": [
    "a = 0\n",
    "b = math.sqrt(5)\n",
    "c = 4000000\n",
    "L = [3 + i*3 for i in range(11)]\n",
    "for i in L:\n",
    "    d = int(1/b*(((1 + b)/2)**(i) - ((1 - b)/2)**(i)))\n",
    "    if d > c:\n",
    "        break\n",
    "    a = a + d\n",
    "print(a)    "
   ]
  },
  {
   "cell_type": "code",
   "execution_count": 5,
   "metadata": {},
   "outputs": [
    {
     "name": "stdout",
     "output_type": "stream",
     "text": [
      "8.7 µs ± 237 ns per loop (mean ± std. dev. of 7 runs, 100000 loops each)\n"
     ]
    }
   ],
   "source": [
    "%%timeit\n",
    "a = 0\n",
    "b = math.sqrt(5)\n",
    "c = 4000000\n",
    "L = [3 + i*3 for i in range(11)]\n",
    "for i in L:\n",
    "    d = int(1/b*(((1 + b)/2)**(i) - ((1 - b)/2)**(i)))\n",
    "    if d > c:\n",
    "        break\n",
    "    a = a + d"
   ]
  },
  {
   "cell_type": "markdown",
   "metadata": {},
   "source": [
    "How to decide the range? This is a tricky question. In Fibonacci series the gaps at which the number of digits change varies from $3$ to $7$. Let's say the average gap is $5$. We use this fact and try to decide about the range. This is an interesting behavior. Also, where they change the digits?"
   ]
  },
  {
   "cell_type": "code",
   "execution_count": 79,
   "metadata": {},
   "outputs": [
    {
     "name": "stdout",
     "output_type": "stream",
     "text": [
      "4613732\n",
      "7\n",
      "11\n",
      "[3, 6, 9, 12, 15, 18, 21, 24, 27, 30, 33]\n"
     ]
    }
   ],
   "source": [
    "import math\n",
    "\n",
    "a = 0\n",
    "b = math.sqrt(5)\n",
    "c = 4000000\n",
    "e = int(math.log(c,10)) + 1\n",
    "f = int(e*5/3)\n",
    "L = [3 + i*3 for i in range(f)]\n",
    "for i in L:\n",
    "    d = int(1/b*(((1 + b)/2)**(i) - ((1 - b)/2)**(i)))\n",
    "    if d > c:\n",
    "        break\n",
    "    a = a + d\n",
    "print(a)\n",
    "print(e)\n",
    "print(f)\n",
    "print(L)"
   ]
  },
  {
   "cell_type": "code",
   "execution_count": 77,
   "metadata": {},
   "outputs": [
    {
     "name": "stdout",
     "output_type": "stream",
     "text": [
      "14.7 µs ± 105 ns per loop (mean ± std. dev. of 7 runs, 100000 loops each)\n"
     ]
    }
   ],
   "source": [
    "%%timeit\n",
    "\n",
    "a = 0\n",
    "b = math.sqrt(5)\n",
    "c = 4000000\n",
    "e = int(math.log(c,10)) + 1\n",
    "f = int(e*5/3)\n",
    "L = [3 + i*3 for i in range(f)]\n",
    "for i in L:\n",
    "    d = int(1/b*(((1 + b)/2)**(i) - ((1 - b)/2)**(i)))\n",
    "    if d > c:\n",
    "        break\n",
    "    a = a + d"
   ]
  },
  {
   "cell_type": "code",
   "execution_count": 80,
   "metadata": {},
   "outputs": [
    {
     "name": "stdout",
     "output_type": "stream",
     "text": [
      "4613732\n",
      "7\n",
      "16\n",
      "[3, 6, 9, 12, 15, 18, 21, 24, 27, 30, 33, 36, 39, 42, 45, 48]\n"
     ]
    }
   ],
   "source": [
    "import math\n",
    "\n",
    "a = 0\n",
    "b = math.sqrt(5)\n",
    "c = 4000000\n",
    "e = int(math.log(c,10)) + 1\n",
    "f = int(e*7/3)\n",
    "L = [3 + i*3 for i in range(f)]\n",
    "for i in L:\n",
    "    d = int(1/b*(((1 + b)/2)**(i) - ((1 - b)/2)**(i)))\n",
    "    if d > c:\n",
    "        break\n",
    "    a = a + d\n",
    "print(a)\n",
    "print(e)\n",
    "print(f)\n",
    "print(L)"
   ]
  },
  {
   "cell_type": "code",
   "execution_count": 81,
   "metadata": {},
   "outputs": [
    {
     "name": "stdout",
     "output_type": "stream",
     "text": [
      "16.3 µs ± 365 ns per loop (mean ± std. dev. of 7 runs, 100000 loops each)\n"
     ]
    }
   ],
   "source": [
    "%%timeit\n",
    "\n",
    "a = 0\n",
    "b = math.sqrt(5)\n",
    "c = 4000000\n",
    "e = int(math.log(c,10)) + 1\n",
    "f = int(e*7/3)\n",
    "L = [3 + i*3 for i in range(f)]\n",
    "for i in L:\n",
    "    d = int(1/b*(((1 + b)/2)**(i) - ((1 - b)/2)**(i)))\n",
    "    if d > c:\n",
    "        break\n",
    "    a = a + d"
   ]
  },
  {
   "cell_type": "code",
   "execution_count": null,
   "metadata": {},
   "outputs": [],
   "source": []
  }
 ],
 "metadata": {
  "kernelspec": {
   "display_name": "Python 3",
   "language": "python",
   "name": "python3"
  },
  "language_info": {
   "codemirror_mode": {
    "name": "ipython",
    "version": 3
   },
   "file_extension": ".py",
   "mimetype": "text/x-python",
   "name": "python",
   "nbconvert_exporter": "python",
   "pygments_lexer": "ipython3",
   "version": "3.7.4"
  }
 },
 "nbformat": 4,
 "nbformat_minor": 2
}
